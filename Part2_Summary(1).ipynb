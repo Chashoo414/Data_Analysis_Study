{
  "nbformat": 4,
  "nbformat_minor": 0,
  "metadata": {
    "colab": {
      "name": "Part2_Summary(1).ipynb",
      "private_outputs": true,
      "provenance": [],
      "collapsed_sections": [],
      "toc_visible": true,
      "authorship_tag": "ABX9TyMJoIA+FDGVXhEbr1Tkg/64",
      "include_colab_link": true
    },
    "kernelspec": {
      "name": "python3",
      "display_name": "Python 3"
    },
    "language_info": {
      "name": "python"
    },
    "gpuClass": "standard"
  },
  "cells": [
    {
      "cell_type": "markdown",
      "metadata": {
        "id": "view-in-github",
        "colab_type": "text"
      },
      "source": [
        "<a href=\"https://colab.research.google.com/github/Chashoo414/Data_Analysis_Study/blob/main/Part2_Summary(1).ipynb\" target=\"_parent\"><img src=\"https://colab.research.google.com/assets/colab-badge.svg\" alt=\"Open In Colab\"/></a>"
      ]
    },
    {
      "cell_type": "markdown",
      "source": [
        "# **Chapter 01. 파이썬 기초 프로그래밍**\n",
        "> 파이썬의 기본적인 문법은 이미 알고 있는 내용이기도 하고,<br>\n",
        "시중에 정리된 책이나 다양한 강의 자료들이 많기에 간단하게만 살펴보고 넘어가겠다."
      ],
      "metadata": {
        "id": "gvPj28NgX728"
      }
    },
    {
      "cell_type": "markdown",
      "source": [
        "## 1-1. Python 기초 문법"
      ],
      "metadata": {
        "id": "kxeebHjmYMjM"
      }
    },
    {
      "cell_type": "markdown",
      "source": [
        "### 사칙연산\n",
        "> - 더하기 `+`, 빼기 `-`, 곱셈 `*`, 나눗셈 `/`"
      ],
      "metadata": {
        "id": "5FFFYMk8ZGfe"
      }
    },
    {
      "cell_type": "code",
      "source": [
        "# 더하기\n",
        "2 + 5"
      ],
      "metadata": {
        "id": "PyTo_ZRoY0ha"
      },
      "execution_count": null,
      "outputs": []
    },
    {
      "cell_type": "code",
      "source": [
        "# 빼기\n",
        "7 - 4"
      ],
      "metadata": {
        "id": "J7MLTvx9ZNmf"
      },
      "execution_count": null,
      "outputs": []
    },
    {
      "cell_type": "code",
      "source": [
        "# 곱셈\n",
        "8 * 2"
      ],
      "metadata": {
        "id": "QffBVaqNZO_M"
      },
      "execution_count": null,
      "outputs": []
    },
    {
      "cell_type": "code",
      "source": [
        "# 나눗셈\n",
        "8 * 3"
      ],
      "metadata": {
        "id": "8LXb1UORZRS0"
      },
      "execution_count": null,
      "outputs": []
    },
    {
      "cell_type": "markdown",
      "source": [
        "### 몫과 나머지\n",
        "> - 몫 `//`, 나머지 `%`"
      ],
      "metadata": {
        "id": "r3sdJ7ukZToU"
      }
    },
    {
      "cell_type": "code",
      "source": [
        "# 몫 구하기\n",
        "86 // 3"
      ],
      "metadata": {
        "id": "5bLcMDYbZaxl"
      },
      "execution_count": null,
      "outputs": []
    },
    {
      "cell_type": "code",
      "source": [
        "# 나머지 구하기\n",
        "86 % 3"
      ],
      "metadata": {
        "id": "ZXkOcIekZdCQ"
      },
      "execution_count": null,
      "outputs": []
    },
    {
      "cell_type": "markdown",
      "source": [
        "> - 몫과 나머지 한 번에 구하기: `divmod`<br>\n",
        "    - divmod( ) 함수를 이용하여 몫과 나머지를 한 번에 구할 수 있다.\n",
        "    - 형식: `divmod(나누어지는 수, 나눌 수)`"
      ],
      "metadata": {
        "id": "pxJQ_CsXZiXu"
      }
    },
    {
      "cell_type": "code",
      "source": [
        "# 몫과 나머지 한 번에 구하기\n",
        "divmod(86,3)"
      ],
      "metadata": {
        "id": "__KzVEKvZlV-"
      },
      "execution_count": null,
      "outputs": []
    },
    {
      "cell_type": "code",
      "source": [
        "# 결과가 튜플로 나오는 것을 활용하여 index를 이용하여 몫이나 나머지를 하나만 구할 수도 있다.\n",
        "result = divmod(86,3)\n",
        "result[0]"
      ],
      "metadata": {
        "id": "YCP8pPULayFC"
      },
      "execution_count": null,
      "outputs": []
    },
    {
      "cell_type": "markdown",
      "source": [
        "### 거듭제곱\n",
        "> - 거듭제곱 `**`"
      ],
      "metadata": {
        "id": "Ey_5PvvXa-uu"
      }
    },
    {
      "cell_type": "code",
      "source": [
        "# 거듭제곱\n",
        "2 ** 3"
      ],
      "metadata": {
        "id": "DC26oqtobDzL"
      },
      "execution_count": null,
      "outputs": []
    },
    {
      "cell_type": "markdown",
      "source": [
        "### 조건문\n",
        "> - `if`를 활용한 조건문"
      ],
      "metadata": {
        "id": "yu2c59LJbFFs"
      }
    },
    {
      "cell_type": "code",
      "source": [
        "# if 조건문\n",
        "a = 5\n",
        "if a > 0 :\n",
        "    print('a는 양수입니다.')"
      ],
      "metadata": {
        "id": "F-u9OzeebJLq"
      },
      "execution_count": null,
      "outputs": []
    },
    {
      "cell_type": "markdown",
      "source": [
        "### 반복문\n",
        "> - `for`를 활용한 반복문"
      ],
      "metadata": {
        "id": "6E-GhpOWbR2S"
      }
    },
    {
      "cell_type": "code",
      "source": [
        "# for 반복문\n",
        "for i in [1,2,3] :\n",
        "    print(i)"
      ],
      "metadata": {
        "id": "hX4TvR_ubWHp"
      },
      "execution_count": null,
      "outputs": []
    },
    {
      "cell_type": "markdown",
      "source": [
        "> - `while`을 활용한 반복문"
      ],
      "metadata": {
        "id": "qXujTfimbbbw"
      }
    },
    {
      "cell_type": "code",
      "source": [
        "# while 반복문\n",
        "a = 0\n",
        "while a < 5 :\n",
        "    a += 1    # '+='는 복합대입연산자이다.\n",
        "    print(a)"
      ],
      "metadata": {
        "id": "2BeIqbw0bfFL"
      },
      "execution_count": null,
      "outputs": []
    },
    {
      "cell_type": "markdown",
      "source": [
        "### 함수\n",
        "> - `def`와 `return`을 사용한 함수 선언"
      ],
      "metadata": {
        "id": "hlmDvDNsbpCp"
      }
    },
    {
      "cell_type": "code",
      "source": [
        "# 함수 선언\n",
        "def sum(a,b) :\n",
        "    return a + b\n",
        "\n",
        "sum(30,4)"
      ],
      "metadata": {
        "id": "X6WhakmJbu-m"
      },
      "execution_count": null,
      "outputs": []
    },
    {
      "cell_type": "markdown",
      "source": [
        "***"
      ],
      "metadata": {
        "id": "S5gW7Mqvb1cv"
      }
    },
    {
      "cell_type": "markdown",
      "source": [
        "## 1-2. Python 자료형"
      ],
      "metadata": {
        "id": "EPI-iu0Db3e2"
      }
    },
    {
      "cell_type": "markdown",
      "source": [
        "### 변수와 자료형\n",
        "> 파이썬은 변수에 다양한 형태의 자료형을 담아서 사용할 수 있다."
      ],
      "metadata": {
        "id": "rlP_ABTJcFvH"
      }
    },
    {
      "cell_type": "code",
      "source": [
        "# 다양한 자료형\n",
        "a = 1           # 숫자형\n",
        "b = 'python'    # 문자형\n",
        "c = [1,2,3]     # 리스트\n",
        "\n",
        "print(a,b,c,)"
      ],
      "metadata": {
        "id": "BPuVWbIqcnvo"
      },
      "execution_count": null,
      "outputs": []
    },
    {
      "cell_type": "code",
      "source": [
        "# 변수를 대입할 때 각 변수에 한 번에 값을 대입할 수도 있다.\n",
        "a, b, c = 1, 'python', [1,2,3]\n",
        "\n",
        "print(a,b,c)"
      ],
      "metadata": {
        "id": "DQeLZ_YgcxZi"
      },
      "execution_count": null,
      "outputs": []
    },
    {
      "cell_type": "markdown",
      "source": [
        "### 숫자형"
      ],
      "metadata": {
        "id": "3js2sWV5c73g"
      }
    },
    {
      "cell_type": "markdown",
      "source": [
        "> - 정수형 (`int`)"
      ],
      "metadata": {
        "id": "tFtgDE7Mc-lj"
      }
    },
    {
      "cell_type": "code",
      "source": [
        "a = 1\n",
        "type(a)    # type()함수는 해당 변수의 자료형을 알려준다."
      ],
      "metadata": {
        "id": "J0QpQgNBdCDF"
      },
      "execution_count": null,
      "outputs": []
    },
    {
      "cell_type": "markdown",
      "source": [
        "> - 실수형 (`float`)"
      ],
      "metadata": {
        "id": "A59TZj4hdImU"
      }
    },
    {
      "cell_type": "code",
      "source": [
        "# 같은 '1'이라 해도 소수점이 있느냐 없느냐에 따라 자료형이 달라진다.\n",
        "a = 1.0\n",
        "type(a)"
      ],
      "metadata": {
        "id": "5owdzG0ZdNG8"
      },
      "execution_count": null,
      "outputs": []
    },
    {
      "cell_type": "code",
      "source": [
        "a = float(1)    # float() 함수는 입력받은 숫자를 실수형으로 바꿔준다.\n",
        "print(a)\n",
        "\n",
        "type(a)"
      ],
      "metadata": {
        "id": "cW96sxYMdPhN"
      },
      "execution_count": null,
      "outputs": []
    },
    {
      "cell_type": "markdown",
      "source": [
        "### 문자형"
      ],
      "metadata": {
        "id": "I_ksqcPAdX2n"
      }
    },
    {
      "cell_type": "markdown",
      "source": [
        "> - 문자열 (`str`)"
      ],
      "metadata": {
        "id": "JW6ecN3Ndgb4"
      }
    },
    {
      "cell_type": "code",
      "source": [
        "# 문자열 변수\n",
        "b = 'Hello Python'\n",
        "type(b)"
      ],
      "metadata": {
        "id": "a5T-hZ16dhwn"
      },
      "execution_count": null,
      "outputs": []
    },
    {
      "cell_type": "code",
      "source": [
        "# 따옴표를 3개 연속 사용하면 한 번에 여러줄의 문자열을 입력할 수 있다.\n",
        "b = '''Hello everyone,\n",
        "My name is Mike.\n",
        "Let's study Python!\n",
        "'''\n",
        "\n",
        "type(b)"
      ],
      "metadata": {
        "id": "I_vXS5Cddm0x"
      },
      "execution_count": null,
      "outputs": []
    },
    {
      "cell_type": "code",
      "source": [
        "# 문자열 생성에서 작은따옴표(')와 큰따옴표(\") 둘 다 사용 가능한 이유는\n",
        "# 문자열 안에 직접 따옴표를 넣을 수 있게 하기 위함이다.\n",
        "b = \"Hello 'Mike'!\"\n",
        "print(b)"
      ],
      "metadata": {
        "id": "KCewtxsPd224"
      },
      "execution_count": null,
      "outputs": []
    },
    {
      "cell_type": "markdown",
      "source": [
        "> - 문자열 연산<br>\n",
        "\\- 문자열도 연산자를 활용하여 연산이 가능하다"
      ],
      "metadata": {
        "id": "kKiVh10jeJpA"
      }
    },
    {
      "cell_type": "code",
      "source": [
        "# 문자열 더하기 - 문자열을 합한다.\n",
        "a = 'Hello'\n",
        "b = ' Python'\n",
        "a + b"
      ],
      "metadata": {
        "id": "SBNFUGm2eNeo"
      },
      "execution_count": null,
      "outputs": []
    },
    {
      "cell_type": "code",
      "source": [
        "# 문자열 곱하기 - 문자열을 반복한다.\n",
        "a = 'Hello'\n",
        "a * 3"
      ],
      "metadata": {
        "id": "fj1xhzVkede5"
      },
      "execution_count": null,
      "outputs": []
    },
    {
      "cell_type": "markdown",
      "source": [
        "> - 문자열 슬라이싱<br>\n",
        "\\- 문자열은 index를 이용하여 슬라이싱 할 수 있다."
      ],
      "metadata": {
        "id": "ED_DKxy-enLy"
      }
    },
    {
      "cell_type": "code",
      "source": [
        "# 문자 하나 슬라이싱\n",
        "c = 'Hello Python'\n",
        "c[1]    # Python은 index가 0부터 시작하는 점, 주의하자!"
      ],
      "metadata": {
        "id": "iHsuBch-etiJ"
      },
      "execution_count": null,
      "outputs": []
    },
    {
      "cell_type": "code",
      "source": [
        "# 역으로 뒤에서부터 선택할 수도 있다.\n",
        "c[-1]"
      ],
      "metadata": {
        "id": "73XKM4P7e3ZZ"
      },
      "execution_count": null,
      "outputs": []
    },
    {
      "cell_type": "code",
      "source": [
        "# 구간을 슬라이싱 할 수도 있다.\n",
        "c[0:4]"
      ],
      "metadata": {
        "id": "mMPXZMrIfBuL"
      },
      "execution_count": null,
      "outputs": []
    },
    {
      "cell_type": "code",
      "source": [
        "# split() 함수를 이용하여 기준을 정하여 슬라이싱 할 수도 있다.\n",
        "a = 'Hello My Name Is Mike.'\n",
        "a.split(' ')"
      ],
      "metadata": {
        "id": "eNRoo9S5fHnK"
      },
      "execution_count": null,
      "outputs": []
    },
    {
      "cell_type": "markdown",
      "source": [
        "### 논리형 자료형"
      ],
      "metadata": {
        "id": "feRn9n5BfSut"
      }
    },
    {
      "cell_type": "markdown",
      "source": [
        "> - 참/거짓 (`True`/`False`) / 논타입 (`None`)"
      ],
      "metadata": {
        "id": "45OJaOu9fXOO"
      }
    },
    {
      "cell_type": "code",
      "source": [
        "a = True\n",
        "type(a)"
      ],
      "metadata": {
        "id": "2psyld7IfbZK"
      },
      "execution_count": null,
      "outputs": []
    },
    {
      "cell_type": "code",
      "source": [
        "if a :\n",
        "    print('True')"
      ],
      "metadata": {
        "id": "qw2Ou8i9fdZi"
      },
      "execution_count": null,
      "outputs": []
    },
    {
      "cell_type": "code",
      "source": [
        "if 1 :    # Python에서 '1'은 'True'이다.\n",
        "    print('True')"
      ],
      "metadata": {
        "id": "yVhECjAUfhWY"
      },
      "execution_count": null,
      "outputs": []
    },
    {
      "cell_type": "code",
      "source": [
        "if 0 :    # Python에서 '0'은 'False'이다.\n",
        "    print('True')"
      ],
      "metadata": {
        "id": "EhHX5vvZfmkc"
      },
      "execution_count": null,
      "outputs": []
    },
    {
      "cell_type": "code",
      "source": [
        "b = None\n",
        "type(b)"
      ],
      "metadata": {
        "id": "KjyvP2PZfshP"
      },
      "execution_count": null,
      "outputs": []
    },
    {
      "cell_type": "code",
      "source": [
        "if b :\n",
        "    print('True')"
      ],
      "metadata": {
        "id": "vAQZX2iufveB"
      },
      "execution_count": null,
      "outputs": []
    },
    {
      "cell_type": "markdown",
      "source": [
        "### 리스트형"
      ],
      "metadata": {
        "id": "uvPgyHKBf7Un"
      }
    },
    {
      "cell_type": "code",
      "source": [
        "a = [1,2,3]\n",
        "type(a)"
      ],
      "metadata": {
        "id": "7tVUBJqhf_AA"
      },
      "execution_count": null,
      "outputs": []
    },
    {
      "cell_type": "code",
      "source": [
        "# 리스트도 index로 슬라이싱 할 수 있다.\n",
        "print(a[0])\n",
        "\n",
        "print(a[0:2])"
      ],
      "metadata": {
        "id": "fbN2TSLNgB2H"
      },
      "execution_count": null,
      "outputs": []
    },
    {
      "cell_type": "code",
      "source": [
        "# 리스트 속 매개변수로 리스트를 넣을 수도 있다.\n",
        "b = [a, 4]\n",
        "b"
      ],
      "metadata": {
        "id": "DOw8mDSsgEjn"
      },
      "execution_count": null,
      "outputs": []
    },
    {
      "cell_type": "code",
      "source": [
        "# 중첩리스트의 경우 슬라이싱은 아래와 같이 한다.\n",
        "b[0][1]    # b[바깥 리스트의 index][내부 리스트의 index]"
      ],
      "metadata": {
        "id": "CD-WMWhygPwS"
      },
      "execution_count": null,
      "outputs": []
    },
    {
      "cell_type": "code",
      "source": [
        "# 리스트끼리 더하여 합할 수도 있다.\n",
        "a = [1,2,3]\n",
        "b = [4,5,6]\n",
        "a + b"
      ],
      "metadata": {
        "id": "k4-9qRz4gWQo"
      },
      "execution_count": null,
      "outputs": []
    },
    {
      "cell_type": "code",
      "source": [
        "# 리스트를 곱하여 내부 값을 늘릴 수도 있다.\n",
        "a = [1,2,3]\n",
        "a * 3"
      ],
      "metadata": {
        "id": "MlV-yHWQgl3Y"
      },
      "execution_count": null,
      "outputs": []
    },
    {
      "cell_type": "code",
      "source": [
        "# 리스트 매개변수의 값을 바꿀 수도 있다.\n",
        "# 바꾸고 싶은 index에 바꾸고자 하는 값을 대입\n",
        "a = [1,2,3]\n",
        "a[0] = 4\n",
        "a"
      ],
      "metadata": {
        "id": "woI1CTZFgqX6"
      },
      "execution_count": null,
      "outputs": []
    },
    {
      "cell_type": "code",
      "source": [
        "# append() 함수로 값을 추가할 수 있다.\n",
        "# 추가된 값은 리스트의 마지막에 추가된다.\n",
        "a = [1,2,3]\n",
        "a.append(4)\n",
        "a"
      ],
      "metadata": {
        "id": "pJwBbdtCg0LA"
      },
      "execution_count": null,
      "outputs": []
    },
    {
      "cell_type": "code",
      "source": [
        "# remove() 함수로 값을 제거할 수도 있다.\n",
        "# 제거하고자 하는 값을 괄호에 넣는다.\n",
        "a.remove(4)\n",
        "a"
      ],
      "metadata": {
        "id": "z2OzVEqSg7YF"
      },
      "execution_count": null,
      "outputs": []
    },
    {
      "cell_type": "code",
      "source": [
        "# insert() 함수로 원하는 위치에 값을 넣을 수도 있다.\n",
        "# insert(원하는 위치의 index, 삽입하고자 하는 값)\n",
        "a = [1,2,3]\n",
        "a.insert(1,4)\n",
        "a"
      ],
      "metadata": {
        "id": "LU3XdgFEhBNs"
      },
      "execution_count": null,
      "outputs": []
    },
    {
      "cell_type": "code",
      "source": [
        "# sort() 함수로 리스트를 오름차순으로 정렬할 수도 있다.\n",
        "# 괄호 안에 옵션을 설정함으로써 내림차순으로 설정할 수도 있다.\n",
        "a.sort()\n",
        "print(a)\n",
        "\n",
        "a.sort(reverse = True)    # 각 함수의 옵션은 함수 뒤에 '?'를 입력해 실행해보면 알 수 있다.\n",
        "print(a)"
      ],
      "metadata": {
        "id": "Clsbn7eHhMws"
      },
      "execution_count": null,
      "outputs": []
    },
    {
      "cell_type": "code",
      "source": [
        "# index() 함수로 원하는 값의 index를 알 수도 있다.\n",
        "a = [1,2,3]\n",
        "a.index(2)"
      ],
      "metadata": {
        "id": "qN_2RDGKhXE4"
      },
      "execution_count": null,
      "outputs": []
    },
    {
      "cell_type": "code",
      "source": [
        "# count() 함수로 원하는 값이 몇 개 있는지 알 수 있다.\n",
        "a = [1,1,2,3]\n",
        "a.count(1)"
      ],
      "metadata": {
        "id": "6bmJzJK8hq_4"
      },
      "execution_count": null,
      "outputs": []
    },
    {
      "cell_type": "code",
      "source": [
        "# len() 함수로 리스트의 길이를 알 수 있다.\n",
        "len(a)"
      ],
      "metadata": {
        "id": "x7_ebhhQhv5z"
      },
      "execution_count": null,
      "outputs": []
    },
    {
      "cell_type": "markdown",
      "source": [
        "### 튜플형\n",
        "> 튜플형은 리스트와 비슷하지만, 값을 추가하거나 변경, 삭제가 불가능하다."
      ],
      "metadata": {
        "id": "sf3NPk5Nh0i8"
      }
    },
    {
      "cell_type": "code",
      "source": [
        "a = (1,2,3)\n",
        "type(a)"
      ],
      "metadata": {
        "id": "KWJWHgjAh_-m"
      },
      "execution_count": null,
      "outputs": []
    },
    {
      "cell_type": "code",
      "source": [
        "a.append(4)"
      ],
      "metadata": {
        "id": "oOz6DqJ_iB2B"
      },
      "execution_count": null,
      "outputs": []
    },
    {
      "cell_type": "code",
      "source": [
        "a.remove(3)"
      ],
      "metadata": {
        "id": "rbnraDAAiC7U"
      },
      "execution_count": null,
      "outputs": []
    },
    {
      "cell_type": "code",
      "source": [
        "a[0] = 4"
      ],
      "metadata": {
        "id": "OIclDrM7iD9Z"
      },
      "execution_count": null,
      "outputs": []
    },
    {
      "cell_type": "markdown",
      "source": [
        "### 딕셔너리형\n",
        "> 딕셔너리형은 키(key)와 값(Value)가 쌍으로 모여 있는 형태의 자료형이다."
      ],
      "metadata": {
        "id": "LZZ_8YDmiFBG"
      }
    },
    {
      "cell_type": "code",
      "source": [
        "a = {'Mike': 'Male', 'Jully': 'Female'}\n",
        "type(a)"
      ],
      "metadata": {
        "id": "y_WlWanMiQEx"
      },
      "execution_count": null,
      "outputs": []
    },
    {
      "cell_type": "code",
      "source": [
        "# keys() 함수로 딕셔너리의 키를 모아서 출력할 수 있다.\n",
        "a.keys()"
      ],
      "metadata": {
        "id": "y8F6-gi8ib2m"
      },
      "execution_count": null,
      "outputs": []
    },
    {
      "cell_type": "code",
      "source": [
        "# 리스트의 index와 유사하게 키(key)를 통해 값을 알 수 있다.\n",
        "a['Mike']"
      ],
      "metadata": {
        "id": "efaES8gsif1G"
      },
      "execution_count": null,
      "outputs": []
    },
    {
      "cell_type": "code",
      "source": [
        "# '딕셔너리[새로운 키] = 대입할 값'의 형식으로 값을 추가할 수 있다.\n",
        "a['Cloud'] = 'Cat'\n",
        "a"
      ],
      "metadata": {
        "id": "XOR3zfbRimVH"
      },
      "execution_count": null,
      "outputs": []
    },
    {
      "cell_type": "code",
      "source": [
        "# clear() 함수는 딕셔너리를 초기화한다.\n",
        "a.clear()\n",
        "a"
      ],
      "metadata": {
        "id": "pcYIy2RsiyG2"
      },
      "execution_count": null,
      "outputs": []
    },
    {
      "cell_type": "markdown",
      "source": [
        "### 집합형\n",
        "> 집합형은 특정 순서가 없고, 중복이 허용되지 않는 자료형이다."
      ],
      "metadata": {
        "id": "AF-fE9Aki4q_"
      }
    },
    {
      "cell_type": "code",
      "source": [
        "a = {1,2,3}\n",
        "type(a)"
      ],
      "metadata": {
        "id": "b-z78XkBjCst"
      },
      "execution_count": null,
      "outputs": []
    },
    {
      "cell_type": "code",
      "source": [
        "# 중복이 허용되지 않는다.\n",
        "a = {1,1,2,3}\n",
        "a"
      ],
      "metadata": {
        "id": "vxjy1lAqjFLT"
      },
      "execution_count": null,
      "outputs": []
    },
    {
      "cell_type": "code",
      "source": [
        "# 교집합(&)\n",
        "a = {1,2,3,4}\n",
        "b = {3,4,5,6}\n",
        "a & b"
      ],
      "metadata": {
        "id": "yf6T6bx4jGkq"
      },
      "execution_count": null,
      "outputs": []
    },
    {
      "cell_type": "code",
      "source": [
        "# 합집합(|)\n",
        "a = {1,2,3,4}\n",
        "b = {3,4,5,6}\n",
        "a | b"
      ],
      "metadata": {
        "id": "tLIyy41HjPn4"
      },
      "execution_count": null,
      "outputs": []
    },
    {
      "cell_type": "code",
      "source": [
        "# 차집합(-)\n",
        "a = {1,2,3,4}\n",
        "b = {3,4,5,6}\n",
        "a - b"
      ],
      "metadata": {
        "id": "kDsrAR8JjRrI"
      },
      "execution_count": null,
      "outputs": []
    },
    {
      "cell_type": "markdown",
      "source": [
        "---"
      ],
      "metadata": {
        "id": "338KJrZwjYMf"
      }
    },
    {
      "cell_type": "markdown",
      "source": [
        ""
      ],
      "metadata": {
        "id": "8YomQ17HjYkf"
      }
    }
  ]
}